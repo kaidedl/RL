{
 "cells": [
  {
   "cell_type": "code",
   "execution_count": 11,
   "metadata": {},
   "outputs": [],
   "source": [
    "import numpy as np\n",
    "import random"
   ]
  },
  {
   "cell_type": "code",
   "execution_count": 2,
   "metadata": {},
   "outputs": [],
   "source": [
    "class board:\n",
    "    def __init__(self, bInit):\n",
    "        self.b=bInit\n",
    "        \n",
    "    def check(self, player):\n",
    "        for i in range(3):\n",
    "            if self.b[i,0]==player and self.b[i,1]==player and self.b[i,2]==player:\n",
    "                return player\n",
    "            if self.b[0,i]==player and self.b[1,i]==player and self.b[2,i]==player:\n",
    "                return player\n",
    "        if self.b[0,0]==player and self.b[1,1]==player and self.b[2,2]==player:\n",
    "            return player\n",
    "        if self.b[0,2]==player and self.b[1,1]==player and self.b[2,0]==player:\n",
    "            return player\n",
    "        if np.sum(np.where(self.b==0,1,0))==0:\n",
    "            return 2\n",
    "        return 0\n",
    "\n",
    "    def toKey(self):\n",
    "        s=0\n",
    "        i=0\n",
    "        for x in range(3):\n",
    "            for y in range(3):\n",
    "                s+=(self.b[x,y]+2)*10**i\n",
    "                i+=1\n",
    "        return int(s)\n",
    "\n",
    "    def fromKey(self, i):\n",
    "        self.b=np.zeros((3,3))\n",
    "        for x in range(3):\n",
    "            for y in range(3):\n",
    "                self.b[x,y]=i%10 - 2\n",
    "                i=int(i/10)\n",
    "                \n",
    "    def move(self, x, y, player):\n",
    "        self.b[x,y]=player\n",
    "        return self.check(player)\n",
    "    \n",
    "    def possibleActions(self):\n",
    "        actions=[]\n",
    "        for x in range(3):\n",
    "            for y in range(3):\n",
    "                if self.b[x,y]==0:\n",
    "                    actions.append(x+3*y)\n",
    "        return actions\n",
    "    \n",
    "    \n",
    "def getAllStartStates():\n",
    "    def f(l, b, i):\n",
    "        x = i % 3\n",
    "        y = int(i / 3)\n",
    "        for p in [-1,0,1]:\n",
    "            b.b[x,y]=p\n",
    "            if np.sum(b.b==1)-np.sum(b.b==-1)==1 and b.check(1)==0 and b.check(-1)==0:\n",
    "                l.append(b.toKey())\n",
    "            if i<8:\n",
    "                f(l, b, i+1)\n",
    "    \n",
    "    l = []\n",
    "    b=board(np.zeros((3,3)))\n",
    "    f(l,b,0)\n",
    "    return l"
   ]
  },
  {
   "cell_type": "code",
   "execution_count": 3,
   "metadata": {},
   "outputs": [],
   "source": [
    "def policyRandomMove(board):\n",
    "    p = np.where(board.b==0, 1, 0)\n",
    "    if p[1,1]==1:\n",
    "        p[1,1]=3\n",
    "    for x,y in [[0,0],[0,2],[2,0],[2,2]]:\n",
    "        if p[x,y]==1:\n",
    "            p[x,y]=2\n",
    "    policy = p / np.sum(p)\n",
    "    return chooseMove(policy)\n",
    "\n",
    "def chooseMove(policy):\n",
    "    u = np.random.uniform()\n",
    "    c=0\n",
    "    for x in [0,1,2]:\n",
    "        for y in [0,1,2]:\n",
    "            c+=policy[x,y]\n",
    "            if u<c:\n",
    "                return x,y\n",
    "\n",
    "\n",
    "def policyMCMove(board, q, player):\n",
    "    key=board.toKey()\n",
    "    actions=board.possibleActions()\n",
    "    best=q[key,actions[0]]\n",
    "    bestAction=actions[0]\n",
    "    for a in actions[1:]:\n",
    "        if q[key,a]>best:\n",
    "            bestAction=a\n",
    "    x=a % 3\n",
    "    y=int(a/3)\n",
    "    return x,y"
   ]
  },
  {
   "cell_type": "code",
   "execution_count": 32,
   "metadata": {},
   "outputs": [],
   "source": [
    "startStates=getAllStartStates()\n",
    "q={}\n",
    "n={}\n",
    "for k in startStates:\n",
    "    b=board(np.zeros((3,3)))\n",
    "    b.fromKey(k)\n",
    "    for a in b.possibleActions():\n",
    "        q[(k,a)]=0.5\n",
    "        n[(k,a)]=0"
   ]
  },
  {
   "cell_type": "code",
   "execution_count": 44,
   "metadata": {},
   "outputs": [
    {
     "name": "stdout",
     "output_type": "stream",
     "text": [
      "0.72 0.2 0.08\n"
     ]
    }
   ],
   "source": [
    "nGames = 10000\n",
    "win1 =0\n",
    "winM1 = 0\n",
    "draw=0\n",
    "for _ in range(nGames):\n",
    "    b=board(np.zeros((3,3)))\n",
    "    b.fromKey(random.choice(startStates))\n",
    "    randomAction=True\n",
    "    player = -1\n",
    "    gameOver=0\n",
    "    listStateAction=[]\n",
    "    while gameOver==0:\n",
    "        if player==1:\n",
    "            x,y=policyRandomMove(b)\n",
    "        else:\n",
    "            key=b.toKey()\n",
    "            if randomAction:\n",
    "                p = np.where(b.b==0, 1, 0)\n",
    "                policy = p / np.sum(p)\n",
    "                x,y = chooseMove(policy)\n",
    "                randomAction=False\n",
    "            else:\n",
    "                x,y=policyMCMove(b,q,player)\n",
    "            listStateAction.append((key, (x, y)))\n",
    "        gameOver = b.move(x,y,player)\n",
    "        player=-player\n",
    "        \n",
    "    if gameOver==2:\n",
    "        draw+=1\n",
    "        r=0.5\n",
    "    elif gameOver==1:\n",
    "        win1+=1\n",
    "        r=0\n",
    "    else:\n",
    "        winM1+=1\n",
    "        r=1\n",
    "    \n",
    "    for k, (x,y) in listStateAction[::]:\n",
    "        a=x+3*y\n",
    "        q[(k,a)]=q[(k,a)]*n[(k,a)]+r\n",
    "        n[(k,a)]+=1\n",
    "        q[(k,a)]/=n[(k,a)]\n",
    "\n",
    "        \n",
    "print(win1/nGames, winM1/nGames, draw/nGames)"
   ]
  },
  {
   "cell_type": "code",
   "execution_count": 39,
   "metadata": {},
   "outputs": [
    {
     "data": {
      "text/plain": [
       "[(311223232, (1, 1)), (311213233, (1, 2))]"
      ]
     },
     "execution_count": 39,
     "metadata": {},
     "output_type": "execute_result"
    }
   ],
   "source": [
    "listStateAction"
   ]
  },
  {
   "cell_type": "code",
   "execution_count": 41,
   "metadata": {},
   "outputs": [
    {
     "data": {
      "text/plain": [
       "array([[ 1.,  1.,  0.],\n",
       "       [ 1., -1.,  0.],\n",
       "       [-1., -1.,  1.]])"
      ]
     },
     "execution_count": 41,
     "metadata": {},
     "output_type": "execute_result"
    }
   ],
   "source": [
    "b=board(np.zeros((3,3)))\n",
    "b.fromKey(311213233)\n",
    "b.b"
   ]
  },
  {
   "cell_type": "code",
   "execution_count": null,
   "metadata": {},
   "outputs": [],
   "source": []
  }
 ],
 "metadata": {
  "kernelspec": {
   "display_name": "Python 3",
   "language": "python",
   "name": "python3"
  },
  "language_info": {
   "codemirror_mode": {
    "name": "ipython",
    "version": 3
   },
   "file_extension": ".py",
   "mimetype": "text/x-python",
   "name": "python",
   "nbconvert_exporter": "python",
   "pygments_lexer": "ipython3",
   "version": "3.6.10"
  }
 },
 "nbformat": 4,
 "nbformat_minor": 2
}
